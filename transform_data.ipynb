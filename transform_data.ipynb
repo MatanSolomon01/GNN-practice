{
 "cells": [
  {
   "cell_type": "markdown",
   "id": "2cf20b21-52bf-4eb3-a577-136a607de1db",
   "metadata": {},
   "source": [
    "# Data transform"
   ]
  },
  {
   "cell_type": "markdown",
   "id": "e18bfcb9-8469-422e-b50b-49b7eb97155a",
   "metadata": {
    "jp-MarkdownHeadingCollapsed": true,
    "tags": []
   },
   "source": [
    "## Load"
   ]
  },
  {
   "cell_type": "code",
   "execution_count": 1,
   "id": "3a390060-be71-4c4a-8a10-3e760559bcaa",
   "metadata": {
    "ExecuteTime": {
     "end_time": "2023-09-05T14:25:03.528904800Z",
     "start_time": "2023-09-05T14:25:03.517387600Z"
    }
   },
   "outputs": [],
   "source": [
    "import pandas as pd\n",
    "from ast import literal_eval\n",
    "import matplotlib.pyplot as plt\n",
    "import seaborn as sns\n",
    "import constants as c\n",
    "\n",
    "sns.set()"
   ]
  },
  {
   "cell_type": "code",
   "execution_count": 2,
   "id": "98a46dce-2bc2-4005-b812-c931b4c386fc",
   "metadata": {
    "ExecuteTime": {
     "end_time": "2023-09-05T14:25:13.782356900Z",
     "start_time": "2023-09-05T14:25:03.530899300Z"
    }
   },
   "outputs": [
    {
     "data": {
      "text/plain": "(1204025, 24)"
     },
     "execution_count": 2,
     "metadata": {},
     "output_type": "execute_result"
    }
   ],
   "source": [
    "data = pd.read_csv('data/raw_tracks.csv')\n",
    "data.shape"
   ]
  },
  {
   "cell_type": "markdown",
   "id": "33c82884-637b-47b3-8ddf-5519c964ccaf",
   "metadata": {
    "jp-MarkdownHeadingCollapsed": true,
    "tags": []
   },
   "source": [
    "## Transform"
   ]
  },
  {
   "cell_type": "markdown",
   "source": [
    "### Songs"
   ],
   "metadata": {
    "collapsed": false
   },
   "id": "5ae2f1db7f1e9961"
  },
  {
   "cell_type": "code",
   "execution_count": 3,
   "id": "fa93755c-da52-4597-8a35-604ffa73a064",
   "metadata": {
    "ExecuteTime": {
     "end_time": "2023-09-05T14:25:42.663986400Z",
     "start_time": "2023-09-05T14:25:13.708396Z"
    }
   },
   "outputs": [],
   "source": [
    "# Process lists that appear as strings \n",
    "data['artists'] = data['artists'].map(literal_eval)\n",
    "data['artist_ids'] = data['artist_ids'].map(literal_eval)\n",
    "data['num_artists'] = data['artists'].apply(len)"
   ]
  },
  {
   "cell_type": "code",
   "execution_count": 4,
   "outputs": [],
   "source": [
    "# Filter songs\n",
    "min_songs = data['num_artists'][data['num_artists'] <= 10].value_counts().min()\n",
    "tdata = data[data['num_artists'] <= 10].groupby('num_artists').sample(min_songs)\n",
    "tdata['release_date'] = tdata['release_date'].astype('datetime64[ns]')\n",
    "tdata = tdata.reset_index(drop=True)\n",
    "\n",
    "# Combine IDs with names\n",
    "tdata['artists'] = tdata[['artists', 'artist_ids']].apply(lambda x: list(zip(x['artists'], x['artist_ids'])), axis=1)\n",
    "tdata['album'] = tdata[['album', 'album_id']].apply(lambda x: (x['album'], x['album_id']), axis=1)\n",
    "tdata['song'] = tdata[['name', 'id']].apply(lambda x: (x['name'], x['id']), axis=1)\n",
    "tdata = tdata.drop(columns=['artist_ids', 'name', 'id', 'album_id'])\n",
    "tdata = tdata[\n",
    "    ['artists', 'num_artists', 'album', 'song', 'track_number', 'disc_number', 'explicit', 'danceability', 'energy',\n",
    "     'key', 'loudness', 'mode', 'speechiness', 'acousticness', 'instrumentalness', 'liveness', 'valence', 'tempo',\n",
    "     'duration_ms', 'time_signature', 'year', 'release_date']]"
   ],
   "metadata": {
    "collapsed": false,
    "ExecuteTime": {
     "end_time": "2023-09-05T14:25:48.902462600Z",
     "start_time": "2023-09-05T14:25:42.686922600Z"
    }
   },
   "id": "92e2a098c3428faa"
  },
  {
   "cell_type": "code",
   "execution_count": 5,
   "outputs": [
    {
     "data": {
      "text/plain": "                                                    disc_number  track_number  \\\nsong                                                                            \n(Jungles, 4eoaUEw0nV2TMu3SlRAmBV)                             1             3   \n(The Blues Overtook Me, 6JewT4bph3ljtxu1srOaCl)               1             1   \n(Chansons d'amour, 1wsaQy1Bnr1xrofZJmKLgk)                    1             9   \n(Throwing Stones, 1rBt7aHt2FWAZlQPTB4PgJ)                     1             3   \n(Little Whitewash Cabin, 726kGgcd9gfTOPENdyGYpC)              1            16   \n...                                                         ...           ...   \n(Therese Raquin: Act I Scene 2: We'll recall wh...            1            14   \n(Siegfried, WWV 86C Act I Scene 3: Fühltest du ...            2             1   \n(Lucia di Lammermoor: Chi mi frena in tal momen...            1             6   \n(Die Kunst der Fuge (The Art of Fugue), BWV 108...            1            22   \n(La bella dormente nel bosco (Sleeping Beauty),...            1            22   \n\n                                                    duration_ms  year  \\\nsong                                                                    \n(Jungles, 4eoaUEw0nV2TMu3SlRAmBV)                        311781  2018   \n(The Blues Overtook Me, 6JewT4bph3ljtxu1srOaCl)          282707  1990   \n(Chansons d'amour, 1wsaQy1Bnr1xrofZJmKLgk)               229280  2014   \n(Throwing Stones, 1rBt7aHt2FWAZlQPTB4PgJ)                225652  2011   \n(Little Whitewash Cabin, 726kGgcd9gfTOPENdyGYpC)         241960  1996   \n...                                                         ...   ...   \n(Therese Raquin: Act I Scene 2: We'll recall wh...       245800  2002   \n(Siegfried, WWV 86C Act I Scene 3: Fühltest du ...       302120  2010   \n(Lucia di Lammermoor: Chi mi frena in tal momen...       215600  2008   \n(Die Kunst der Fuge (The Art of Fugue), BWV 108...       150840  2001   \n(La bella dormente nel bosco (Sleeping Beauty),...       127467  1995   \n\n                                                    explicit  danceability  \\\nsong                                                                         \n(Jungles, 4eoaUEw0nV2TMu3SlRAmBV)                      False         0.217   \n(The Blues Overtook Me, 6JewT4bph3ljtxu1srOaCl)        False         0.409   \n(Chansons d'amour, 1wsaQy1Bnr1xrofZJmKLgk)             False         0.610   \n(Throwing Stones, 1rBt7aHt2FWAZlQPTB4PgJ)              False         0.388   \n(Little Whitewash Cabin, 726kGgcd9gfTOPENdyGYpC)       False         0.655   \n...                                                      ...           ...   \n(Therese Raquin: Act I Scene 2: We'll recall wh...     False         0.243   \n(Siegfried, WWV 86C Act I Scene 3: Fühltest du ...     False         0.186   \n(Lucia di Lammermoor: Chi mi frena in tal momen...     False         0.270   \n(Die Kunst der Fuge (The Art of Fugue), BWV 108...     False         0.244   \n(La bella dormente nel bosco (Sleeping Beauty),...     False         0.307   \n\n                                                    energy  key  loudness  \\\nsong                                                                        \n(Jungles, 4eoaUEw0nV2TMu3SlRAmBV)                   0.6740    0    -5.202   \n(The Blues Overtook Me, 6JewT4bph3ljtxu1srOaCl)     0.8250    7    -5.756   \n(Chansons d'amour, 1wsaQy1Bnr1xrofZJmKLgk)          0.7240    9    -4.425   \n(Throwing Stones, 1rBt7aHt2FWAZlQPTB4PgJ)           0.7720    7    -5.346   \n(Little Whitewash Cabin, 726kGgcd9gfTOPENdyGYpC)    0.3960    3    -9.093   \n...                                                    ...  ...       ...   \n(Therese Raquin: Act I Scene 2: We'll recall wh...  0.2610   11   -20.394   \n(Siegfried, WWV 86C Act I Scene 3: Fühltest du ...  0.1640    5   -20.505   \n(Lucia di Lammermoor: Chi mi frena in tal momen...  0.4750    1   -13.094   \n(Die Kunst der Fuge (The Art of Fugue), BWV 108...  0.0636    2   -21.882   \n(La bella dormente nel bosco (Sleeping Beauty),...  0.2310    5   -16.454   \n\n                                                    mode  speechiness  \\\nsong                                                                    \n(Jungles, 4eoaUEw0nV2TMu3SlRAmBV)                      0       0.0580   \n(The Blues Overtook Me, 6JewT4bph3ljtxu1srOaCl)        1       0.1060   \n(Chansons d'amour, 1wsaQy1Bnr1xrofZJmKLgk)             1       0.0287   \n(Throwing Stones, 1rBt7aHt2FWAZlQPTB4PgJ)              1       0.0804   \n(Little Whitewash Cabin, 726kGgcd9gfTOPENdyGYpC)       1       0.0361   \n...                                                  ...          ...   \n(Therese Raquin: Act I Scene 2: We'll recall wh...     0       0.0536   \n(Siegfried, WWV 86C Act I Scene 3: Fühltest du ...     1       0.0408   \n(Lucia di Lammermoor: Chi mi frena in tal momen...     1       0.0738   \n(Die Kunst der Fuge (The Art of Fugue), BWV 108...     0       0.0369   \n(La bella dormente nel bosco (Sleeping Beauty),...     1       0.0390   \n\n                                                    acousticness  \\\nsong                                                               \n(Jungles, 4eoaUEw0nV2TMu3SlRAmBV)                        0.00207   \n(The Blues Overtook Me, 6JewT4bph3ljtxu1srOaCl)          0.13600   \n(Chansons d'amour, 1wsaQy1Bnr1xrofZJmKLgk)               0.33500   \n(Throwing Stones, 1rBt7aHt2FWAZlQPTB4PgJ)                0.06410   \n(Little Whitewash Cabin, 726kGgcd9gfTOPENdyGYpC)         0.36100   \n...                                                          ...   \n(Therese Raquin: Act I Scene 2: We'll recall wh...       0.84900   \n(Siegfried, WWV 86C Act I Scene 3: Fühltest du ...       0.98000   \n(Lucia di Lammermoor: Chi mi frena in tal momen...       0.97300   \n(Die Kunst der Fuge (The Art of Fugue), BWV 108...       0.84800   \n(La bella dormente nel bosco (Sleeping Beauty),...       0.31200   \n\n                                                    instrumentalness  \\\nsong                                                                   \n(Jungles, 4eoaUEw0nV2TMu3SlRAmBV)                           0.084000   \n(The Blues Overtook Me, 6JewT4bph3ljtxu1srOaCl)             0.004140   \n(Chansons d'amour, 1wsaQy1Bnr1xrofZJmKLgk)                  0.000000   \n(Throwing Stones, 1rBt7aHt2FWAZlQPTB4PgJ)                   0.001090   \n(Little Whitewash Cabin, 726kGgcd9gfTOPENdyGYpC)            0.000000   \n...                                                              ...   \n(Therese Raquin: Act I Scene 2: We'll recall wh...          0.002900   \n(Siegfried, WWV 86C Act I Scene 3: Fühltest du ...          0.020500   \n(Lucia di Lammermoor: Chi mi frena in tal momen...          0.000014   \n(Die Kunst der Fuge (The Art of Fugue), BWV 108...          0.415000   \n(La bella dormente nel bosco (Sleeping Beauty),...          0.357000   \n\n                                                    liveness  valence    tempo  \nsong                                                                            \n(Jungles, 4eoaUEw0nV2TMu3SlRAmBV)                     0.1110   0.0565  107.170  \n(The Blues Overtook Me, 6JewT4bph3ljtxu1srOaCl)       0.2050   0.7420  146.516  \n(Chansons d'amour, 1wsaQy1Bnr1xrofZJmKLgk)            0.0932   0.7380  103.998  \n(Throwing Stones, 1rBt7aHt2FWAZlQPTB4PgJ)             0.0509   0.6890  195.974  \n(Little Whitewash Cabin, 726kGgcd9gfTOPENdyGYpC)      0.1240   0.6860   75.464  \n...                                                      ...      ...      ...  \n(Therese Raquin: Act I Scene 2: We'll recall wh...    0.1380   0.2390   83.729  \n(Siegfried, WWV 86C Act I Scene 3: Fühltest du ...    0.1840   0.1130   71.472  \n(Lucia di Lammermoor: Chi mi frena in tal momen...    0.6810   0.3450   82.986  \n(Die Kunst der Fuge (The Art of Fugue), BWV 108...    0.3050   0.3250   76.823  \n(La bella dormente nel bosco (Sleeping Beauty),...    0.0874   0.1130   69.908  \n\n[13280 rows x 16 columns]",
      "text/html": "<div>\n<style scoped>\n    .dataframe tbody tr th:only-of-type {\n        vertical-align: middle;\n    }\n\n    .dataframe tbody tr th {\n        vertical-align: top;\n    }\n\n    .dataframe thead th {\n        text-align: right;\n    }\n</style>\n<table border=\"1\" class=\"dataframe\">\n  <thead>\n    <tr style=\"text-align: right;\">\n      <th></th>\n      <th>disc_number</th>\n      <th>track_number</th>\n      <th>duration_ms</th>\n      <th>year</th>\n      <th>explicit</th>\n      <th>danceability</th>\n      <th>energy</th>\n      <th>key</th>\n      <th>loudness</th>\n      <th>mode</th>\n      <th>speechiness</th>\n      <th>acousticness</th>\n      <th>instrumentalness</th>\n      <th>liveness</th>\n      <th>valence</th>\n      <th>tempo</th>\n    </tr>\n    <tr>\n      <th>song</th>\n      <th></th>\n      <th></th>\n      <th></th>\n      <th></th>\n      <th></th>\n      <th></th>\n      <th></th>\n      <th></th>\n      <th></th>\n      <th></th>\n      <th></th>\n      <th></th>\n      <th></th>\n      <th></th>\n      <th></th>\n      <th></th>\n    </tr>\n  </thead>\n  <tbody>\n    <tr>\n      <th>(Jungles, 4eoaUEw0nV2TMu3SlRAmBV)</th>\n      <td>1</td>\n      <td>3</td>\n      <td>311781</td>\n      <td>2018</td>\n      <td>False</td>\n      <td>0.217</td>\n      <td>0.6740</td>\n      <td>0</td>\n      <td>-5.202</td>\n      <td>0</td>\n      <td>0.0580</td>\n      <td>0.00207</td>\n      <td>0.084000</td>\n      <td>0.1110</td>\n      <td>0.0565</td>\n      <td>107.170</td>\n    </tr>\n    <tr>\n      <th>(The Blues Overtook Me, 6JewT4bph3ljtxu1srOaCl)</th>\n      <td>1</td>\n      <td>1</td>\n      <td>282707</td>\n      <td>1990</td>\n      <td>False</td>\n      <td>0.409</td>\n      <td>0.8250</td>\n      <td>7</td>\n      <td>-5.756</td>\n      <td>1</td>\n      <td>0.1060</td>\n      <td>0.13600</td>\n      <td>0.004140</td>\n      <td>0.2050</td>\n      <td>0.7420</td>\n      <td>146.516</td>\n    </tr>\n    <tr>\n      <th>(Chansons d'amour, 1wsaQy1Bnr1xrofZJmKLgk)</th>\n      <td>1</td>\n      <td>9</td>\n      <td>229280</td>\n      <td>2014</td>\n      <td>False</td>\n      <td>0.610</td>\n      <td>0.7240</td>\n      <td>9</td>\n      <td>-4.425</td>\n      <td>1</td>\n      <td>0.0287</td>\n      <td>0.33500</td>\n      <td>0.000000</td>\n      <td>0.0932</td>\n      <td>0.7380</td>\n      <td>103.998</td>\n    </tr>\n    <tr>\n      <th>(Throwing Stones, 1rBt7aHt2FWAZlQPTB4PgJ)</th>\n      <td>1</td>\n      <td>3</td>\n      <td>225652</td>\n      <td>2011</td>\n      <td>False</td>\n      <td>0.388</td>\n      <td>0.7720</td>\n      <td>7</td>\n      <td>-5.346</td>\n      <td>1</td>\n      <td>0.0804</td>\n      <td>0.06410</td>\n      <td>0.001090</td>\n      <td>0.0509</td>\n      <td>0.6890</td>\n      <td>195.974</td>\n    </tr>\n    <tr>\n      <th>(Little Whitewash Cabin, 726kGgcd9gfTOPENdyGYpC)</th>\n      <td>1</td>\n      <td>16</td>\n      <td>241960</td>\n      <td>1996</td>\n      <td>False</td>\n      <td>0.655</td>\n      <td>0.3960</td>\n      <td>3</td>\n      <td>-9.093</td>\n      <td>1</td>\n      <td>0.0361</td>\n      <td>0.36100</td>\n      <td>0.000000</td>\n      <td>0.1240</td>\n      <td>0.6860</td>\n      <td>75.464</td>\n    </tr>\n    <tr>\n      <th>...</th>\n      <td>...</td>\n      <td>...</td>\n      <td>...</td>\n      <td>...</td>\n      <td>...</td>\n      <td>...</td>\n      <td>...</td>\n      <td>...</td>\n      <td>...</td>\n      <td>...</td>\n      <td>...</td>\n      <td>...</td>\n      <td>...</td>\n      <td>...</td>\n      <td>...</td>\n      <td>...</td>\n    </tr>\n    <tr>\n      <th>(Therese Raquin: Act I Scene 2: We'll recall when years have passed (Madame), 4TY1KaF8vALpdPzUq48VBm)</th>\n      <td>1</td>\n      <td>14</td>\n      <td>245800</td>\n      <td>2002</td>\n      <td>False</td>\n      <td>0.243</td>\n      <td>0.2610</td>\n      <td>11</td>\n      <td>-20.394</td>\n      <td>0</td>\n      <td>0.0536</td>\n      <td>0.84900</td>\n      <td>0.002900</td>\n      <td>0.1380</td>\n      <td>0.2390</td>\n      <td>83.729</td>\n    </tr>\n    <tr>\n      <th>(Siegfried, WWV 86C Act I Scene 3: Fühltest du nie im finstren Wald (Live), 4MZ8gSYKAf9HknLDe2Vy35)</th>\n      <td>2</td>\n      <td>1</td>\n      <td>302120</td>\n      <td>2010</td>\n      <td>False</td>\n      <td>0.186</td>\n      <td>0.1640</td>\n      <td>5</td>\n      <td>-20.505</td>\n      <td>1</td>\n      <td>0.0408</td>\n      <td>0.98000</td>\n      <td>0.020500</td>\n      <td>0.1840</td>\n      <td>0.1130</td>\n      <td>71.472</td>\n    </tr>\n    <tr>\n      <th>(Lucia di Lammermoor: Chi mi frena in tal momento?, 2QGeCpxrWGnaOpzT4kqsBP)</th>\n      <td>1</td>\n      <td>6</td>\n      <td>215600</td>\n      <td>2008</td>\n      <td>False</td>\n      <td>0.270</td>\n      <td>0.4750</td>\n      <td>1</td>\n      <td>-13.094</td>\n      <td>1</td>\n      <td>0.0738</td>\n      <td>0.97300</td>\n      <td>0.000014</td>\n      <td>0.6810</td>\n      <td>0.3450</td>\n      <td>82.986</td>\n    </tr>\n    <tr>\n      <th>(Die Kunst der Fuge (The Art of Fugue), BWV 1080 (arr. B. Labadie): Appendix: Variations of Contrapunctus XIII: Fuga a 2 Clav. (XIIIa), 2WIMpjbqWZE62UfzPYfsRO)</th>\n      <td>1</td>\n      <td>22</td>\n      <td>150840</td>\n      <td>2001</td>\n      <td>False</td>\n      <td>0.244</td>\n      <td>0.0636</td>\n      <td>2</td>\n      <td>-21.882</td>\n      <td>0</td>\n      <td>0.0369</td>\n      <td>0.84800</td>\n      <td>0.415000</td>\n      <td>0.3050</td>\n      <td>0.3250</td>\n      <td>76.823</td>\n    </tr>\n    <tr>\n      <th>(La bella dormente nel bosco (Sleeping Beauty), P. 176: Benvenuti nella Reggia voi, signori dell' April, 1IAzYVYP0oaVbko1omJBc1)</th>\n      <td>1</td>\n      <td>22</td>\n      <td>127467</td>\n      <td>1995</td>\n      <td>False</td>\n      <td>0.307</td>\n      <td>0.2310</td>\n      <td>5</td>\n      <td>-16.454</td>\n      <td>1</td>\n      <td>0.0390</td>\n      <td>0.31200</td>\n      <td>0.357000</td>\n      <td>0.0874</td>\n      <td>0.1130</td>\n      <td>69.908</td>\n    </tr>\n  </tbody>\n</table>\n<p>13280 rows × 16 columns</p>\n</div>"
     },
     "execution_count": 5,
     "metadata": {},
     "output_type": "execute_result"
    }
   ],
   "source": [
    "songs_clean = tdata.copy()\n",
    "songs_clean = songs_clean.set_index('song')[\n",
    "    ['disc_number', 'track_number', 'duration_ms', 'year', 'explicit', 'danceability', 'energy', 'key', 'loudness',\n",
    "     'mode', 'speechiness', 'acousticness', 'instrumentalness', 'liveness', 'valence', 'tempo']]\n",
    "songs_clean"
   ],
   "metadata": {
    "collapsed": false,
    "ExecuteTime": {
     "end_time": "2023-09-05T14:25:49.015703300Z",
     "start_time": "2023-09-05T14:25:48.913432800Z"
    }
   },
   "id": "4f141d257c37cd5"
  },
  {
   "cell_type": "markdown",
   "source": [
    "### Pairs"
   ],
   "metadata": {
    "collapsed": false
   },
   "id": "20eee25634bc3781"
  },
  {
   "cell_type": "code",
   "execution_count": 6,
   "outputs": [],
   "source": [
    "pairs = tdata.explode('artists')\n",
    "pairs = pairs.rename(columns={'artists': 'artist'})\n",
    "pairs = pairs.reset_index(drop=True)\n",
    "pairs = pairs.drop(columns=['num_artists'])"
   ],
   "metadata": {
    "collapsed": false,
    "ExecuteTime": {
     "end_time": "2023-09-05T14:25:49.265615400Z",
     "start_time": "2023-09-05T14:25:49.002739400Z"
    }
   },
   "id": "7683f97bca36ae7c"
  },
  {
   "cell_type": "markdown",
   "source": [
    "### Artists"
   ],
   "metadata": {
    "collapsed": false
   },
   "id": "102ade16e5db959"
  },
  {
   "cell_type": "code",
   "execution_count": 7,
   "outputs": [
    {
     "name": "stderr",
     "output_type": "stream",
     "text": [
      "C:\\Users\\matan_39ey9fy\\AppData\\Local\\Temp\\ipykernel_16436\\651269558.py:6: FutureWarning: Indexing with multiple keys (implicitly converted to a tuple of keys) will be deprecated, use a list instead.\n",
      "  temp = pairs.groupby('artist')[\n"
     ]
    }
   ],
   "source": [
    "artists = pairs.groupby('artist').agg({'album': [lambda x: x.tolist(), 'count'],\n",
    "                                       'song': [lambda x: x.tolist(), 'count'],\n",
    "                                       'year': ['min', 'max'],\n",
    "                                       'release_date': ['min', 'max'],\n",
    "                                       'duration_ms': ['min', 'max', 'mean']})\n",
    "temp = pairs.groupby('artist')[\n",
    "    'explicit', 'danceability', 'energy', 'key', 'loudness', 'mode', 'speechiness', 'acousticness', 'instrumentalness', 'liveness', 'valence', 'tempo'].mean()\n",
    "artists = pd.concat([artists, temp], axis=1)\n",
    "artists['years_span'] = artists[('year', 'max')] - artists[('year', 'min')]\n",
    "artists['days_span'] = (artists[('release_date', 'max')] - artists[('release_date', 'min')]).dt.days"
   ],
   "metadata": {
    "collapsed": false,
    "ExecuteTime": {
     "end_time": "2023-09-05T14:25:52.036054Z",
     "start_time": "2023-09-05T14:25:49.162368700Z"
    }
   },
   "id": "d66846cd9f735a7c"
  },
  {
   "cell_type": "code",
   "execution_count": 8,
   "outputs": [
    {
     "name": "stderr",
     "output_type": "stream",
     "text": [
      "C:\\Users\\matan_39ey9fy\\anaconda3\\lib\\site-packages\\pandas\\core\\common.py:245: VisibleDeprecationWarning: Creating an ndarray from ragged nested sequences (which is a list-or-tuple of lists-or-tuples-or ndarrays with different lengths or shapes) is deprecated. If you meant to do this, you must specify 'dtype=object' when creating the ndarray.\n",
      "  result = np.asarray(values, dtype=dtype)\n"
     ]
    },
    {
     "data": {
      "text/plain": "                                                   first_year  last_year  \\\nartist                                                                     \n(\"Papa\" John Defrancesco, 0MsdOFWTQ7r5vs8bOczy1U)        2001       2001   \n((Hed) P.E., 0xIChbcTsuYLueN1oEsX9v)                     1997       2003   \n(*NSYNC, 6Ff53KvcvAj5U7Z1vojB5o)                         1998       1998   \n(100 gecs, 6PfSUFtkMVoDkx4MQkzOi3)                       2020       2020   \n(1006 Fac, 5xdrLTyFECnyARgvGnNj2T)                       2002       2002   \n...                                                       ...        ...   \n(舒米, 0BPF3NcRxD9W8JjXiCeZdG)                             2015       2015   \n(舟沢虫雄 (Mushio FUNAZAWA), 6vbY5YFW9BRPiFcAvyql8j)         1995       1995   \n(葉歡, 4FqyapYq1CWwiP61S8zvVy)                             1988       1994   \n(陳秀男, 08x8gTE2pt6N3HvzeQfTQh)                            1988       1988   \n(鳳飛飛, 13ILSgBPHS5T6YCFw9Pc7R)                            2009       2009   \n\n                                                   years_span  days_span  \\\nartist                                                                     \n(\"Papa\" John Defrancesco, 0MsdOFWTQ7r5vs8bOczy1U)           0          0   \n((Hed) P.E., 0xIChbcTsuYLueN1oEsX9v)                        6       1966   \n(*NSYNC, 6Ff53KvcvAj5U7Z1vojB5o)                            0          0   \n(100 gecs, 6PfSUFtkMVoDkx4MQkzOi3)                          0          0   \n(1006 Fac, 5xdrLTyFECnyARgvGnNj2T)                          0          0   \n...                                                       ...        ...   \n(舒米, 0BPF3NcRxD9W8JjXiCeZdG)                                0          0   \n(舟沢虫雄 (Mushio FUNAZAWA), 6vbY5YFW9BRPiFcAvyql8j)            0          0   \n(葉歡, 4FqyapYq1CWwiP61S8zvVy)                                6       2187   \n(陳秀男, 08x8gTE2pt6N3HvzeQfTQh)                               0          0   \n(鳳飛飛, 13ILSgBPHS5T6YCFw9Pc7R)                               0          0   \n\n                                                   num_albums  num_songs  \\\nartist                                                                     \n(\"Papa\" John Defrancesco, 0MsdOFWTQ7r5vs8bOczy1U)           1          1   \n((Hed) P.E., 0xIChbcTsuYLueN1oEsX9v)                        2          2   \n(*NSYNC, 6Ff53KvcvAj5U7Z1vojB5o)                            1          1   \n(100 gecs, 6PfSUFtkMVoDkx4MQkzOi3)                          1          1   \n(1006 Fac, 5xdrLTyFECnyARgvGnNj2T)                          1          1   \n...                                                       ...        ...   \n(舒米, 0BPF3NcRxD9W8JjXiCeZdG)                                1          1   \n(舟沢虫雄 (Mushio FUNAZAWA), 6vbY5YFW9BRPiFcAvyql8j)            1          1   \n(葉歡, 4FqyapYq1CWwiP61S8zvVy)                                2          2   \n(陳秀男, 08x8gTE2pt6N3HvzeQfTQh)                               1          1   \n(鳳飛飛, 13ILSgBPHS5T6YCFw9Pc7R)                               1          1   \n\n                                                   avg_songs_per_album  \\\nartist                                                                   \n(\"Papa\" John Defrancesco, 0MsdOFWTQ7r5vs8bOczy1U)                  1.0   \n((Hed) P.E., 0xIChbcTsuYLueN1oEsX9v)                               1.0   \n(*NSYNC, 6Ff53KvcvAj5U7Z1vojB5o)                                   1.0   \n(100 gecs, 6PfSUFtkMVoDkx4MQkzOi3)                                 1.0   \n(1006 Fac, 5xdrLTyFECnyARgvGnNj2T)                                 1.0   \n...                                                                ...   \n(舒米, 0BPF3NcRxD9W8JjXiCeZdG)                                       1.0   \n(舟沢虫雄 (Mushio FUNAZAWA), 6vbY5YFW9BRPiFcAvyql8j)                   1.0   \n(葉歡, 4FqyapYq1CWwiP61S8zvVy)                                       1.0   \n(陳秀男, 08x8gTE2pt6N3HvzeQfTQh)                                      1.0   \n(鳳飛飛, 13ILSgBPHS5T6YCFw9Pc7R)                                      1.0   \n\n                                                   min_duration_ms  \\\nartist                                                               \n(\"Papa\" John Defrancesco, 0MsdOFWTQ7r5vs8bOczy1U)           393773   \n((Hed) P.E., 0xIChbcTsuYLueN1oEsX9v)                        213345   \n(*NSYNC, 6Ff53KvcvAj5U7Z1vojB5o)                            233093   \n(100 gecs, 6PfSUFtkMVoDkx4MQkzOi3)                          128714   \n(1006 Fac, 5xdrLTyFECnyARgvGnNj2T)                          306667   \n...                                                            ...   \n(舒米, 0BPF3NcRxD9W8JjXiCeZdG)                                 71388   \n(舟沢虫雄 (Mushio FUNAZAWA), 6vbY5YFW9BRPiFcAvyql8j)            202440   \n(葉歡, 4FqyapYq1CWwiP61S8zvVy)                                262631   \n(陳秀男, 08x8gTE2pt6N3HvzeQfTQh)                               321627   \n(鳳飛飛, 13ILSgBPHS5T6YCFw9Pc7R)                               223733   \n\n                                                   max_duration_ms  \\\nartist                                                               \n(\"Papa\" John Defrancesco, 0MsdOFWTQ7r5vs8bOczy1U)           393773   \n((Hed) P.E., 0xIChbcTsuYLueN1oEsX9v)                        245867   \n(*NSYNC, 6Ff53KvcvAj5U7Z1vojB5o)                            233093   \n(100 gecs, 6PfSUFtkMVoDkx4MQkzOi3)                          128714   \n(1006 Fac, 5xdrLTyFECnyARgvGnNj2T)                          306667   \n...                                                            ...   \n(舒米, 0BPF3NcRxD9W8JjXiCeZdG)                                 71388   \n(舟沢虫雄 (Mushio FUNAZAWA), 6vbY5YFW9BRPiFcAvyql8j)            202440   \n(葉歡, 4FqyapYq1CWwiP61S8zvVy)                                321627   \n(陳秀男, 08x8gTE2pt6N3HvzeQfTQh)                               321627   \n(鳳飛飛, 13ILSgBPHS5T6YCFw9Pc7R)                               223733   \n\n                                                   avg_duration_ms  ...  \\\nartist                                                              ...   \n(\"Papa\" John Defrancesco, 0MsdOFWTQ7r5vs8bOczy1U)         393773.0  ...   \n((Hed) P.E., 0xIChbcTsuYLueN1oEsX9v)                      229606.0  ...   \n(*NSYNC, 6Ff53KvcvAj5U7Z1vojB5o)                          233093.0  ...   \n(100 gecs, 6PfSUFtkMVoDkx4MQkzOi3)                        128714.0  ...   \n(1006 Fac, 5xdrLTyFECnyARgvGnNj2T)                        306667.0  ...   \n...                                                            ...  ...   \n(舒米, 0BPF3NcRxD9W8JjXiCeZdG)                               71388.0  ...   \n(舟沢虫雄 (Mushio FUNAZAWA), 6vbY5YFW9BRPiFcAvyql8j)          202440.0  ...   \n(葉歡, 4FqyapYq1CWwiP61S8zvVy)                              292129.0  ...   \n(陳秀男, 08x8gTE2pt6N3HvzeQfTQh)                             321627.0  ...   \n(鳳飛飛, 13ILSgBPHS5T6YCFw9Pc7R)                             223733.0  ...   \n\n                                                   avg_energy  avg_key  \\\nartist                                                                   \n(\"Papa\" John Defrancesco, 0MsdOFWTQ7r5vs8bOczy1U)     0.56300      5.0   \n((Hed) P.E., 0xIChbcTsuYLueN1oEsX9v)                  0.88500      8.0   \n(*NSYNC, 6Ff53KvcvAj5U7Z1vojB5o)                      0.52000      4.0   \n(100 gecs, 6PfSUFtkMVoDkx4MQkzOi3)                    0.50500      0.0   \n(1006 Fac, 5xdrLTyFECnyARgvGnNj2T)                    0.71100     11.0   \n...                                                       ...      ...   \n(舒米, 0BPF3NcRxD9W8JjXiCeZdG)                          0.16200      2.0   \n(舟沢虫雄 (Mushio FUNAZAWA), 6vbY5YFW9BRPiFcAvyql8j)      0.00428      2.0   \n(葉歡, 4FqyapYq1CWwiP61S8zvVy)                          0.31400      4.5   \n(陳秀男, 08x8gTE2pt6N3HvzeQfTQh)                         0.45900      1.0   \n(鳳飛飛, 13ILSgBPHS5T6YCFw9Pc7R)                         0.42100      8.0   \n\n                                                   avg_loudness  avg_mode  \\\nartist                                                                      \n(\"Papa\" John Defrancesco, 0MsdOFWTQ7r5vs8bOczy1U)       -9.5500       0.0   \n((Hed) P.E., 0xIChbcTsuYLueN1oEsX9v)                    -6.1205       0.5   \n(*NSYNC, 6Ff53KvcvAj5U7Z1vojB5o)                        -7.9400       1.0   \n(100 gecs, 6PfSUFtkMVoDkx4MQkzOi3)                      -7.0870       1.0   \n(1006 Fac, 5xdrLTyFECnyARgvGnNj2T)                      -5.4360       1.0   \n...                                                         ...       ...   \n(舒米, 0BPF3NcRxD9W8JjXiCeZdG)                           -19.3040       0.0   \n(舟沢虫雄 (Mushio FUNAZAWA), 6vbY5YFW9BRPiFcAvyql8j)       -39.6040       0.0   \n(葉歡, 4FqyapYq1CWwiP61S8zvVy)                           -12.7810       0.5   \n(陳秀男, 08x8gTE2pt6N3HvzeQfTQh)                           -8.1630       1.0   \n(鳳飛飛, 13ILSgBPHS5T6YCFw9Pc7R)                           -8.4300       1.0   \n\n                                                   avg_speechiness  \\\nartist                                                               \n(\"Papa\" John Defrancesco, 0MsdOFWTQ7r5vs8bOczy1U)          0.03150   \n((Hed) P.E., 0xIChbcTsuYLueN1oEsX9v)                       0.08025   \n(*NSYNC, 6Ff53KvcvAj5U7Z1vojB5o)                           0.02490   \n(100 gecs, 6PfSUFtkMVoDkx4MQkzOi3)                         0.15100   \n(1006 Fac, 5xdrLTyFECnyARgvGnNj2T)                         0.23800   \n...                                                            ...   \n(舒米, 0BPF3NcRxD9W8JjXiCeZdG)                               0.03130   \n(舟沢虫雄 (Mushio FUNAZAWA), 6vbY5YFW9BRPiFcAvyql8j)           0.04250   \n(葉歡, 4FqyapYq1CWwiP61S8zvVy)                               0.03225   \n(陳秀男, 08x8gTE2pt6N3HvzeQfTQh)                              0.03420   \n(鳳飛飛, 13ILSgBPHS5T6YCFw9Pc7R)                              0.02950   \n\n                                                   avg_acousticness  \\\nartist                                                                \n(\"Papa\" John Defrancesco, 0MsdOFWTQ7r5vs8bOczy1U)          0.643000   \n((Hed) P.E., 0xIChbcTsuYLueN1oEsX9v)                       0.000285   \n(*NSYNC, 6Ff53KvcvAj5U7Z1vojB5o)                           0.237000   \n(100 gecs, 6PfSUFtkMVoDkx4MQkzOi3)                         0.115000   \n(1006 Fac, 5xdrLTyFECnyARgvGnNj2T)                         0.450000   \n...                                                             ...   \n(舒米, 0BPF3NcRxD9W8JjXiCeZdG)                               0.875000   \n(舟沢虫雄 (Mushio FUNAZAWA), 6vbY5YFW9BRPiFcAvyql8j)           0.993000   \n(葉歡, 4FqyapYq1CWwiP61S8zvVy)                               0.708000   \n(陳秀男, 08x8gTE2pt6N3HvzeQfTQh)                              0.535000   \n(鳳飛飛, 13ILSgBPHS5T6YCFw9Pc7R)                              0.262000   \n\n                                                   avg_instrumentalness  \\\nartist                                                                    \n(\"Papa\" John Defrancesco, 0MsdOFWTQ7r5vs8bOczy1U)              0.877000   \n((Hed) P.E., 0xIChbcTsuYLueN1oEsX9v)                           0.001315   \n(*NSYNC, 6Ff53KvcvAj5U7Z1vojB5o)                               0.000000   \n(100 gecs, 6PfSUFtkMVoDkx4MQkzOi3)                             0.000000   \n(1006 Fac, 5xdrLTyFECnyARgvGnNj2T)                             0.000000   \n...                                                                 ...   \n(舒米, 0BPF3NcRxD9W8JjXiCeZdG)                                   0.002360   \n(舟沢虫雄 (Mushio FUNAZAWA), 6vbY5YFW9BRPiFcAvyql8j)               0.882000   \n(葉歡, 4FqyapYq1CWwiP61S8zvVy)                                   0.000209   \n(陳秀男, 08x8gTE2pt6N3HvzeQfTQh)                                  0.000000   \n(鳳飛飛, 13ILSgBPHS5T6YCFw9Pc7R)                                  0.000412   \n\n                                                   avg_liveness  avg_valence  \\\nartist                                                                         \n(\"Papa\" John Defrancesco, 0MsdOFWTQ7r5vs8bOczy1U)       0.15600       0.7110   \n((Hed) P.E., 0xIChbcTsuYLueN1oEsX9v)                    0.18200       0.2850   \n(*NSYNC, 6Ff53KvcvAj5U7Z1vojB5o)                        0.25700       0.1890   \n(100 gecs, 6PfSUFtkMVoDkx4MQkzOi3)                      0.36300       0.4810   \n(1006 Fac, 5xdrLTyFECnyARgvGnNj2T)                      0.36300       0.9250   \n...                                                         ...          ...   \n(舒米, 0BPF3NcRxD9W8JjXiCeZdG)                            0.09940       0.0837   \n(舟沢虫雄 (Mushio FUNAZAWA), 6vbY5YFW9BRPiFcAvyql8j)        0.10300       0.0353   \n(葉歡, 4FqyapYq1CWwiP61S8zvVy)                            0.10985       0.1895   \n(陳秀男, 08x8gTE2pt6N3HvzeQfTQh)                           0.06770       0.2510   \n(鳳飛飛, 13ILSgBPHS5T6YCFw9Pc7R)                           0.18400       0.2540   \n\n                                                   avg_tempo  \nartist                                                        \n(\"Papa\" John Defrancesco, 0MsdOFWTQ7r5vs8bOczy1U)   130.0990  \n((Hed) P.E., 0xIChbcTsuYLueN1oEsX9v)                 97.2540  \n(*NSYNC, 6Ff53KvcvAj5U7Z1vojB5o)                     80.8780  \n(100 gecs, 6PfSUFtkMVoDkx4MQkzOi3)                  139.9530  \n(1006 Fac, 5xdrLTyFECnyARgvGnNj2T)                   84.5560  \n...                                                      ...  \n(舒米, 0BPF3NcRxD9W8JjXiCeZdG)                         71.0190  \n(舟沢虫雄 (Mushio FUNAZAWA), 6vbY5YFW9BRPiFcAvyql8j)    145.1540  \n(葉歡, 4FqyapYq1CWwiP61S8zvVy)                        111.6975  \n(陳秀男, 08x8gTE2pt6N3HvzeQfTQh)                       125.8110  \n(鳳飛飛, 13ILSgBPHS5T6YCFw9Pc7R)                        96.6050  \n\n[17400 rows x 22 columns]",
      "text/html": "<div>\n<style scoped>\n    .dataframe tbody tr th:only-of-type {\n        vertical-align: middle;\n    }\n\n    .dataframe tbody tr th {\n        vertical-align: top;\n    }\n\n    .dataframe thead th {\n        text-align: right;\n    }\n</style>\n<table border=\"1\" class=\"dataframe\">\n  <thead>\n    <tr style=\"text-align: right;\">\n      <th></th>\n      <th>first_year</th>\n      <th>last_year</th>\n      <th>years_span</th>\n      <th>days_span</th>\n      <th>num_albums</th>\n      <th>num_songs</th>\n      <th>avg_songs_per_album</th>\n      <th>min_duration_ms</th>\n      <th>max_duration_ms</th>\n      <th>avg_duration_ms</th>\n      <th>...</th>\n      <th>avg_energy</th>\n      <th>avg_key</th>\n      <th>avg_loudness</th>\n      <th>avg_mode</th>\n      <th>avg_speechiness</th>\n      <th>avg_acousticness</th>\n      <th>avg_instrumentalness</th>\n      <th>avg_liveness</th>\n      <th>avg_valence</th>\n      <th>avg_tempo</th>\n    </tr>\n    <tr>\n      <th>artist</th>\n      <th></th>\n      <th></th>\n      <th></th>\n      <th></th>\n      <th></th>\n      <th></th>\n      <th></th>\n      <th></th>\n      <th></th>\n      <th></th>\n      <th></th>\n      <th></th>\n      <th></th>\n      <th></th>\n      <th></th>\n      <th></th>\n      <th></th>\n      <th></th>\n      <th></th>\n      <th></th>\n      <th></th>\n    </tr>\n  </thead>\n  <tbody>\n    <tr>\n      <th>(\"Papa\" John Defrancesco, 0MsdOFWTQ7r5vs8bOczy1U)</th>\n      <td>2001</td>\n      <td>2001</td>\n      <td>0</td>\n      <td>0</td>\n      <td>1</td>\n      <td>1</td>\n      <td>1.0</td>\n      <td>393773</td>\n      <td>393773</td>\n      <td>393773.0</td>\n      <td>...</td>\n      <td>0.56300</td>\n      <td>5.0</td>\n      <td>-9.5500</td>\n      <td>0.0</td>\n      <td>0.03150</td>\n      <td>0.643000</td>\n      <td>0.877000</td>\n      <td>0.15600</td>\n      <td>0.7110</td>\n      <td>130.0990</td>\n    </tr>\n    <tr>\n      <th>((Hed) P.E., 0xIChbcTsuYLueN1oEsX9v)</th>\n      <td>1997</td>\n      <td>2003</td>\n      <td>6</td>\n      <td>1966</td>\n      <td>2</td>\n      <td>2</td>\n      <td>1.0</td>\n      <td>213345</td>\n      <td>245867</td>\n      <td>229606.0</td>\n      <td>...</td>\n      <td>0.88500</td>\n      <td>8.0</td>\n      <td>-6.1205</td>\n      <td>0.5</td>\n      <td>0.08025</td>\n      <td>0.000285</td>\n      <td>0.001315</td>\n      <td>0.18200</td>\n      <td>0.2850</td>\n      <td>97.2540</td>\n    </tr>\n    <tr>\n      <th>(*NSYNC, 6Ff53KvcvAj5U7Z1vojB5o)</th>\n      <td>1998</td>\n      <td>1998</td>\n      <td>0</td>\n      <td>0</td>\n      <td>1</td>\n      <td>1</td>\n      <td>1.0</td>\n      <td>233093</td>\n      <td>233093</td>\n      <td>233093.0</td>\n      <td>...</td>\n      <td>0.52000</td>\n      <td>4.0</td>\n      <td>-7.9400</td>\n      <td>1.0</td>\n      <td>0.02490</td>\n      <td>0.237000</td>\n      <td>0.000000</td>\n      <td>0.25700</td>\n      <td>0.1890</td>\n      <td>80.8780</td>\n    </tr>\n    <tr>\n      <th>(100 gecs, 6PfSUFtkMVoDkx4MQkzOi3)</th>\n      <td>2020</td>\n      <td>2020</td>\n      <td>0</td>\n      <td>0</td>\n      <td>1</td>\n      <td>1</td>\n      <td>1.0</td>\n      <td>128714</td>\n      <td>128714</td>\n      <td>128714.0</td>\n      <td>...</td>\n      <td>0.50500</td>\n      <td>0.0</td>\n      <td>-7.0870</td>\n      <td>1.0</td>\n      <td>0.15100</td>\n      <td>0.115000</td>\n      <td>0.000000</td>\n      <td>0.36300</td>\n      <td>0.4810</td>\n      <td>139.9530</td>\n    </tr>\n    <tr>\n      <th>(1006 Fac, 5xdrLTyFECnyARgvGnNj2T)</th>\n      <td>2002</td>\n      <td>2002</td>\n      <td>0</td>\n      <td>0</td>\n      <td>1</td>\n      <td>1</td>\n      <td>1.0</td>\n      <td>306667</td>\n      <td>306667</td>\n      <td>306667.0</td>\n      <td>...</td>\n      <td>0.71100</td>\n      <td>11.0</td>\n      <td>-5.4360</td>\n      <td>1.0</td>\n      <td>0.23800</td>\n      <td>0.450000</td>\n      <td>0.000000</td>\n      <td>0.36300</td>\n      <td>0.9250</td>\n      <td>84.5560</td>\n    </tr>\n    <tr>\n      <th>...</th>\n      <td>...</td>\n      <td>...</td>\n      <td>...</td>\n      <td>...</td>\n      <td>...</td>\n      <td>...</td>\n      <td>...</td>\n      <td>...</td>\n      <td>...</td>\n      <td>...</td>\n      <td>...</td>\n      <td>...</td>\n      <td>...</td>\n      <td>...</td>\n      <td>...</td>\n      <td>...</td>\n      <td>...</td>\n      <td>...</td>\n      <td>...</td>\n      <td>...</td>\n      <td>...</td>\n    </tr>\n    <tr>\n      <th>(舒米, 0BPF3NcRxD9W8JjXiCeZdG)</th>\n      <td>2015</td>\n      <td>2015</td>\n      <td>0</td>\n      <td>0</td>\n      <td>1</td>\n      <td>1</td>\n      <td>1.0</td>\n      <td>71388</td>\n      <td>71388</td>\n      <td>71388.0</td>\n      <td>...</td>\n      <td>0.16200</td>\n      <td>2.0</td>\n      <td>-19.3040</td>\n      <td>0.0</td>\n      <td>0.03130</td>\n      <td>0.875000</td>\n      <td>0.002360</td>\n      <td>0.09940</td>\n      <td>0.0837</td>\n      <td>71.0190</td>\n    </tr>\n    <tr>\n      <th>(舟沢虫雄 (Mushio FUNAZAWA), 6vbY5YFW9BRPiFcAvyql8j)</th>\n      <td>1995</td>\n      <td>1995</td>\n      <td>0</td>\n      <td>0</td>\n      <td>1</td>\n      <td>1</td>\n      <td>1.0</td>\n      <td>202440</td>\n      <td>202440</td>\n      <td>202440.0</td>\n      <td>...</td>\n      <td>0.00428</td>\n      <td>2.0</td>\n      <td>-39.6040</td>\n      <td>0.0</td>\n      <td>0.04250</td>\n      <td>0.993000</td>\n      <td>0.882000</td>\n      <td>0.10300</td>\n      <td>0.0353</td>\n      <td>145.1540</td>\n    </tr>\n    <tr>\n      <th>(葉歡, 4FqyapYq1CWwiP61S8zvVy)</th>\n      <td>1988</td>\n      <td>1994</td>\n      <td>6</td>\n      <td>2187</td>\n      <td>2</td>\n      <td>2</td>\n      <td>1.0</td>\n      <td>262631</td>\n      <td>321627</td>\n      <td>292129.0</td>\n      <td>...</td>\n      <td>0.31400</td>\n      <td>4.5</td>\n      <td>-12.7810</td>\n      <td>0.5</td>\n      <td>0.03225</td>\n      <td>0.708000</td>\n      <td>0.000209</td>\n      <td>0.10985</td>\n      <td>0.1895</td>\n      <td>111.6975</td>\n    </tr>\n    <tr>\n      <th>(陳秀男, 08x8gTE2pt6N3HvzeQfTQh)</th>\n      <td>1988</td>\n      <td>1988</td>\n      <td>0</td>\n      <td>0</td>\n      <td>1</td>\n      <td>1</td>\n      <td>1.0</td>\n      <td>321627</td>\n      <td>321627</td>\n      <td>321627.0</td>\n      <td>...</td>\n      <td>0.45900</td>\n      <td>1.0</td>\n      <td>-8.1630</td>\n      <td>1.0</td>\n      <td>0.03420</td>\n      <td>0.535000</td>\n      <td>0.000000</td>\n      <td>0.06770</td>\n      <td>0.2510</td>\n      <td>125.8110</td>\n    </tr>\n    <tr>\n      <th>(鳳飛飛, 13ILSgBPHS5T6YCFw9Pc7R)</th>\n      <td>2009</td>\n      <td>2009</td>\n      <td>0</td>\n      <td>0</td>\n      <td>1</td>\n      <td>1</td>\n      <td>1.0</td>\n      <td>223733</td>\n      <td>223733</td>\n      <td>223733.0</td>\n      <td>...</td>\n      <td>0.42100</td>\n      <td>8.0</td>\n      <td>-8.4300</td>\n      <td>1.0</td>\n      <td>0.02950</td>\n      <td>0.262000</td>\n      <td>0.000412</td>\n      <td>0.18400</td>\n      <td>0.2540</td>\n      <td>96.6050</td>\n    </tr>\n  </tbody>\n</table>\n<p>17400 rows × 22 columns</p>\n</div>"
     },
     "execution_count": 8,
     "metadata": {},
     "output_type": "execute_result"
    }
   ],
   "source": [
    "artists_clean = artists[\n",
    "    [('year', 'min'), ('year', 'max'), 'years_span', 'days_span', ('album', 'count'), ('song', 'count'),\n",
    "     ('duration_ms', 'min'), ('duration_ms', 'max'), ('duration_ms', 'mean'), 'explicit', 'danceability', 'energy',\n",
    "     'key', 'loudness', 'mode', 'speechiness', 'acousticness', 'instrumentalness', 'liveness', 'valence', 'tempo']]\n",
    "avg_song_per_album = pairs.groupby(['artist', 'album']).size().reset_index(name='counts').groupby('artist')[\n",
    "    'counts'].mean()\n",
    "artists_clean.insert(6, 'avg_songs_per_album', avg_song_per_album)\n",
    "artists_clean = artists_clean.rename(\n",
    "    columns={('year', 'min'): 'first_year', ('year', 'max'): 'last_year', ('album', 'count'): 'num_albums',\n",
    "             ('song', 'count'): 'num_songs', ('duration_ms', 'min'): 'min_duration_ms',\n",
    "             ('duration_ms', 'max'): 'max_duration_ms', ('duration_ms', 'mean'): 'avg_duration_ms'})\n",
    "artists_clean = artists_clean.rename(columns={col: f\"avg_{col}\" for col in artists_clean.columns[10:]})\n",
    "artists_clean"
   ],
   "metadata": {
    "collapsed": false,
    "ExecuteTime": {
     "end_time": "2023-09-05T14:25:52.555905500Z",
     "start_time": "2023-09-05T14:25:52.026081600Z"
    }
   },
   "id": "124c448f5c40a959"
  },
  {
   "cell_type": "markdown",
   "source": [
    "## Explore and save"
   ],
   "metadata": {
    "collapsed": false
   },
   "id": "ae5b847115ccc4d0"
  },
  {
   "cell_type": "code",
   "execution_count": 11,
   "outputs": [
    {
     "name": "stdout",
     "output_type": "stream",
     "text": [
      "(13280, 22)\n"
     ]
    },
    {
     "data": {
      "text/plain": "<Figure size 1500x500 with 3 Axes>",
      "image/png": "[encoded data removed]"
     },
     "metadata": {},
     "output_type": "display_data"
    }
   ],
   "source": [
    "print(tdata.shape)\n",
    "\n",
    "fig, axes = plt.subplots(1, 3, figsize=(15, 5))\n",
    "tdata['num_artists'].hist(ax=axes[0])\n",
    "tdata[tdata['year'] >= 2015]['num_artists'].hist(ax=axes[1])\n",
    "tdata[tdata['year'] < 2015]['num_artists'].hist(ax=axes[2])\n",
    "plt.show()"
   ],
   "metadata": {
    "collapsed": false,
    "ExecuteTime": {
     "end_time": "2023-09-05T14:25:54.189044Z",
     "start_time": "2023-09-05T14:25:52.433160200Z"
    }
   },
   "id": "ec0a605e-5923-44a5-b798-99c15b20252f"
  },
  {
   "cell_type": "code",
   "execution_count": 19,
   "outputs": [],
   "source": [
    "# Save tdata\n",
    "import pickle as pkl\n",
    "pkl.dump(songs_clean, open('data/songs.pkl', 'wb'))\n",
    "pkl.dump(artists_clean, open('data/artists.pkl', 'wb'))\n",
    "pkl.dump(pairs[['artist', 'song']], open('data/creations.pkl', 'wb'))"
   ],
   "metadata": {
    "collapsed": false,
    "ExecuteTime": {
     "end_time": "2023-09-05T14:29:50.761508Z",
     "start_time": "2023-09-05T14:29:50.535067900Z"
    }
   },
   "id": "e8b9a2595478eda4"
  }
 ],
 "metadata": {
  "kernelspec": {
   "display_name": "Python 3 (ipykernel)",
   "language": "python",
   "name": "python3"
  },
  "language_info": {
   "codemirror_mode": {
    "name": "ipython",
    "version": 3
   },
   "file_extension": ".py",
   "mimetype": "text/x-python",
   "name": "python",
   "nbconvert_exporter": "python",
   "pygments_lexer": "ipython3",
   "version": "3.9.12"
  }
 },
 "nbformat": 4,
 "nbformat_minor": 5
}
