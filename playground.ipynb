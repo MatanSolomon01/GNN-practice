{
 "cells": [
  {
   "cell_type": "markdown",
   "source": [
    "# Playground"
   ],
   "metadata": {
    "collapsed": false
   },
   "id": "cf31ea8a2af9776c"
  },
  {
   "cell_type": "markdown",
   "source": [
    "## Load"
   ],
   "metadata": {
    "collapsed": false
   },
   "id": "61bdad505fce27c5"
  },
  {
   "cell_type": "code",
   "execution_count": 4,
   "outputs": [],
   "source": [
    "import pandas as pd\n",
    "import pickle as pkl\n",
    "import numpy as np\n",
    "import matplotlib.pyplot as plt\n",
    "import seaborn as sns"
   ],
   "metadata": {
    "collapsed": false,
    "ExecuteTime": {
     "end_time": "2023-09-05T09:51:58.868574300Z",
     "start_time": "2023-09-05T09:51:58.843632500Z"
    }
   },
   "id": "6a44053e47bf3d6c"
  },
  {
   "cell_type": "code",
   "execution_count": 5,
   "outputs": [],
   "source": [
    "artists = pkl.load(open('data/artists.pkl', 'rb'))\n",
    "songs = pkl.load(open('data/songs.pkl', 'rb'))"
   ],
   "metadata": {
    "collapsed": false,
    "ExecuteTime": {
     "end_time": "2023-09-05T09:51:59.521922200Z",
     "start_time": "2023-09-05T09:51:59.460569200Z"
    }
   },
   "id": "8fa96aeb2de66c14"
  },
  {
   "cell_type": "markdown",
   "source": [
    "## Playgroung"
   ],
   "metadata": {
    "collapsed": false
   },
   "id": "d28b6553505cd63c"
  },
  {
   "cell_type": "code",
   "execution_count": 7,
   "outputs": [
    {
     "data": {
      "text/plain": "                                                    disc_number  track_number  \\\nsong                                                                            \n(Intro, 36OLdKDmtpcIcrFoGXUZmE)                               1             1   \n(King Porter Stomp, 0V4L3elclkrMX5qD6NHKo1)                   1             6   \n(Suite in Re-mineur: Passaquaille, 1AMpgLwFwsUt...            1            17   \n(Airport Road, 30OEgBLWseXK8MEmLXjTWc)                        1             4   \n(Mockba '993, 5Bl4yqGEUEiHQDExtBSywH)                         1             9   \n...                                                         ...           ...   \n(The Flying Dutchman: Act III Scene 8: Cavatina...            2            12   \n(Athalia, HWV 52: Part 1, Scene 3: No. 16 Aria ...            1            17   \n(Das jungste Gericht, BuxWV 3: Act III: O frohl...            1            11   \n(Show You a Thing or Two, 0DqGQIceDHFZi5wZmeV6og)             1             9   \n(Utrenja, Part II, \"The Resurrection of Christ\"...            1             8   \n\n                                                    duration_ms  year  \\\nsong                                                                    \n(Intro, 36OLdKDmtpcIcrFoGXUZmE)                          139080  2011   \n(King Porter Stomp, 0V4L3elclkrMX5qD6NHKo1)              268920  2013   \n(Suite in Re-mineur: Passaquaille, 1AMpgLwFwsUt...       217400  1995   \n(Airport Road, 30OEgBLWseXK8MEmLXjTWc)                   414773  1999   \n(Mockba '993, 5Bl4yqGEUEiHQDExtBSywH)                    295373  1995   \n...                                                         ...   ...   \n(The Flying Dutchman: Act III Scene 8: Cavatina...       174373  2011   \n(Athalia, HWV 52: Part 1, Scene 3: No. 16 Aria ...       210067  1998   \n(Das jungste Gericht, BuxWV 3: Act III: O frohl...       321093  2007   \n(Show You a Thing or Two, 0DqGQIceDHFZi5wZmeV6og)        323533  2001   \n(Utrenja, Part II, \"The Resurrection of Christ\"...       501733  2009   \n\n                                                    explicit  danceability  \\\nsong                                                                         \n(Intro, 36OLdKDmtpcIcrFoGXUZmE)                         True         0.706   \n(King Porter Stomp, 0V4L3elclkrMX5qD6NHKo1)            False         0.655   \n(Suite in Re-mineur: Passaquaille, 1AMpgLwFwsUt...     False         0.518   \n(Airport Road, 30OEgBLWseXK8MEmLXjTWc)                 False         0.332   \n(Mockba '993, 5Bl4yqGEUEiHQDExtBSywH)                  False         0.270   \n...                                                      ...           ...   \n(The Flying Dutchman: Act III Scene 8: Cavatina...     False         0.290   \n(Athalia, HWV 52: Part 1, Scene 3: No. 16 Aria ...     False         0.211   \n(Das jungste Gericht, BuxWV 3: Act III: O frohl...     False         0.244   \n(Show You a Thing or Two, 0DqGQIceDHFZi5wZmeV6og)      False         0.648   \n(Utrenja, Part II, \"The Resurrection of Christ\"...     False         0.244   \n\n                                                     energy  key  loudness  \\\nsong                                                                         \n(Intro, 36OLdKDmtpcIcrFoGXUZmE)                     0.51600    2    -9.992   \n(King Porter Stomp, 0V4L3elclkrMX5qD6NHKo1)         0.43800    1   -10.325   \n(Suite in Re-mineur: Passaquaille, 1AMpgLwFwsUt...  0.00653    1   -29.442   \n(Airport Road, 30OEgBLWseXK8MEmLXjTWc)              0.57300    2    -9.815   \n(Mockba '993, 5Bl4yqGEUEiHQDExtBSywH)               0.86600    0   -10.324   \n...                                                     ...  ...       ...   \n(The Flying Dutchman: Act III Scene 8: Cavatina...  0.11600    5   -24.263   \n(Athalia, HWV 52: Part 1, Scene 3: No. 16 Aria ...  0.00756    8   -30.398   \n(Das jungste Gericht, BuxWV 3: Act III: O frohl...  0.10700    0   -20.351   \n(Show You a Thing or Two, 0DqGQIceDHFZi5wZmeV6og)   0.46700    1    -6.026   \n(Utrenja, Part II, \"The Resurrection of Christ\"...  0.52300    9   -13.987   \n\n                                                    mode  speechiness  \\\nsong                                                                    \n(Intro, 36OLdKDmtpcIcrFoGXUZmE)                        1       0.2420   \n(King Porter Stomp, 0V4L3elclkrMX5qD6NHKo1)            1       0.0551   \n(Suite in Re-mineur: Passaquaille, 1AMpgLwFwsUt...     1       0.0958   \n(Airport Road, 30OEgBLWseXK8MEmLXjTWc)                 1       0.0364   \n(Mockba '993, 5Bl4yqGEUEiHQDExtBSywH)                  1       0.0560   \n...                                                  ...          ...   \n(The Flying Dutchman: Act III Scene 8: Cavatina...     1       0.0418   \n(Athalia, HWV 52: Part 1, Scene 3: No. 16 Aria ...     1       0.0427   \n(Das jungste Gericht, BuxWV 3: Act III: O frohl...     1       0.0486   \n(Show You a Thing or Two, 0DqGQIceDHFZi5wZmeV6og)      1       0.1910   \n(Utrenja, Part II, \"The Resurrection of Christ\"...     0       0.1870   \n\n                                                    acousticness  \\\nsong                                                               \n(Intro, 36OLdKDmtpcIcrFoGXUZmE)                         0.003450   \n(King Porter Stomp, 0V4L3elclkrMX5qD6NHKo1)             0.511000   \n(Suite in Re-mineur: Passaquaille, 1AMpgLwFwsUt...      0.994000   \n(Airport Road, 30OEgBLWseXK8MEmLXjTWc)                  0.053800   \n(Mockba '993, 5Bl4yqGEUEiHQDExtBSywH)                   0.000506   \n...                                                          ...   \n(The Flying Dutchman: Act III Scene 8: Cavatina...      0.965000   \n(Athalia, HWV 52: Part 1, Scene 3: No. 16 Aria ...      0.938000   \n(Das jungste Gericht, BuxWV 3: Act III: O frohl...      0.950000   \n(Show You a Thing or Two, 0DqGQIceDHFZi5wZmeV6og)       0.722000   \n(Utrenja, Part II, \"The Resurrection of Christ\"...      0.951000   \n\n                                                    instrumentalness  \\\nsong                                                                   \n(Intro, 36OLdKDmtpcIcrFoGXUZmE)                             0.000000   \n(King Porter Stomp, 0V4L3elclkrMX5qD6NHKo1)                 0.046800   \n(Suite in Re-mineur: Passaquaille, 1AMpgLwFwsUt...          0.844000   \n(Airport Road, 30OEgBLWseXK8MEmLXjTWc)                      0.054400   \n(Mockba '993, 5Bl4yqGEUEiHQDExtBSywH)                       0.000046   \n...                                                              ...   \n(The Flying Dutchman: Act III Scene 8: Cavatina...          0.000036   \n(Athalia, HWV 52: Part 1, Scene 3: No. 16 Aria ...          0.001810   \n(Das jungste Gericht, BuxWV 3: Act III: O frohl...          0.000096   \n(Show You a Thing or Two, 0DqGQIceDHFZi5wZmeV6og)           0.000000   \n(Utrenja, Part II, \"The Resurrection of Christ\"...          0.049900   \n\n                                                    liveness  valence    tempo  \nsong                                                                            \n(Intro, 36OLdKDmtpcIcrFoGXUZmE)                       0.3670   0.3220   72.993  \n(King Porter Stomp, 0V4L3elclkrMX5qD6NHKo1)           0.2990   0.5810   80.121  \n(Suite in Re-mineur: Passaquaille, 1AMpgLwFwsUt...    0.0942   0.3350   75.320  \n(Airport Road, 30OEgBLWseXK8MEmLXjTWc)                0.1120   0.1240  136.439  \n(Mockba '993, 5Bl4yqGEUEiHQDExtBSywH)                 0.0747   0.3560  174.327  \n...                                                      ...      ...      ...  \n(The Flying Dutchman: Act III Scene 8: Cavatina...    0.3040   0.1660   78.498  \n(Athalia, HWV 52: Part 1, Scene 3: No. 16 Aria ...    0.1370   0.1090  101.245  \n(Das jungste Gericht, BuxWV 3: Act III: O frohl...    0.1020   0.1610   81.970  \n(Show You a Thing or Two, 0DqGQIceDHFZi5wZmeV6og)     0.1300   0.6490  147.054  \n(Utrenja, Part II, \"The Resurrection of Christ\"...    0.1750   0.0336  126.702  \n\n[13280 rows x 16 columns]",
      "text/html": "<div>\n<style scoped>\n    .dataframe tbody tr th:only-of-type {\n        vertical-align: middle;\n    }\n\n    .dataframe tbody tr th {\n        vertical-align: top;\n    }\n\n    .dataframe thead th {\n        text-align: right;\n    }\n</style>\n<table border=\"1\" class=\"dataframe\">\n  <thead>\n    <tr style=\"text-align: right;\">\n      <th></th>\n      <th>disc_number</th>\n      <th>track_number</th>\n      <th>duration_ms</th>\n      <th>year</th>\n      <th>explicit</th>\n      <th>danceability</th>\n      <th>energy</th>\n      <th>key</th>\n      <th>loudness</th>\n      <th>mode</th>\n      <th>speechiness</th>\n      <th>acousticness</th>\n      <th>instrumentalness</th>\n      <th>liveness</th>\n      <th>valence</th>\n      <th>tempo</th>\n    </tr>\n    <tr>\n      <th>song</th>\n      <th></th>\n      <th></th>\n      <th></th>\n      <th></th>\n      <th></th>\n      <th></th>\n      <th></th>\n      <th></th>\n      <th></th>\n      <th></th>\n      <th></th>\n      <th></th>\n      <th></th>\n      <th></th>\n      <th></th>\n      <th></th>\n    </tr>\n  </thead>\n  <tbody>\n    <tr>\n      <th>(Intro, 36OLdKDmtpcIcrFoGXUZmE)</th>\n      <td>1</td>\n      <td>1</td>\n      <td>139080</td>\n      <td>2011</td>\n      <td>True</td>\n      <td>0.706</td>\n      <td>0.51600</td>\n      <td>2</td>\n      <td>-9.992</td>\n      <td>1</td>\n      <td>0.2420</td>\n      <td>0.003450</td>\n      <td>0.000000</td>\n      <td>0.3670</td>\n      <td>0.3220</td>\n      <td>72.993</td>\n    </tr>\n    <tr>\n      <th>(King Porter Stomp, 0V4L3elclkrMX5qD6NHKo1)</th>\n      <td>1</td>\n      <td>6</td>\n      <td>268920</td>\n      <td>2013</td>\n      <td>False</td>\n      <td>0.655</td>\n      <td>0.43800</td>\n      <td>1</td>\n      <td>-10.325</td>\n      <td>1</td>\n      <td>0.0551</td>\n      <td>0.511000</td>\n      <td>0.046800</td>\n      <td>0.2990</td>\n      <td>0.5810</td>\n      <td>80.121</td>\n    </tr>\n    <tr>\n      <th>(Suite in Re-mineur: Passaquaille, 1AMpgLwFwsUtppgtzhIWMT)</th>\n      <td>1</td>\n      <td>17</td>\n      <td>217400</td>\n      <td>1995</td>\n      <td>False</td>\n      <td>0.518</td>\n      <td>0.00653</td>\n      <td>1</td>\n      <td>-29.442</td>\n      <td>1</td>\n      <td>0.0958</td>\n      <td>0.994000</td>\n      <td>0.844000</td>\n      <td>0.0942</td>\n      <td>0.3350</td>\n      <td>75.320</td>\n    </tr>\n    <tr>\n      <th>(Airport Road, 30OEgBLWseXK8MEmLXjTWc)</th>\n      <td>1</td>\n      <td>4</td>\n      <td>414773</td>\n      <td>1999</td>\n      <td>False</td>\n      <td>0.332</td>\n      <td>0.57300</td>\n      <td>2</td>\n      <td>-9.815</td>\n      <td>1</td>\n      <td>0.0364</td>\n      <td>0.053800</td>\n      <td>0.054400</td>\n      <td>0.1120</td>\n      <td>0.1240</td>\n      <td>136.439</td>\n    </tr>\n    <tr>\n      <th>(Mockba '993, 5Bl4yqGEUEiHQDExtBSywH)</th>\n      <td>1</td>\n      <td>9</td>\n      <td>295373</td>\n      <td>1995</td>\n      <td>False</td>\n      <td>0.270</td>\n      <td>0.86600</td>\n      <td>0</td>\n      <td>-10.324</td>\n      <td>1</td>\n      <td>0.0560</td>\n      <td>0.000506</td>\n      <td>0.000046</td>\n      <td>0.0747</td>\n      <td>0.3560</td>\n      <td>174.327</td>\n    </tr>\n    <tr>\n      <th>...</th>\n      <td>...</td>\n      <td>...</td>\n      <td>...</td>\n      <td>...</td>\n      <td>...</td>\n      <td>...</td>\n      <td>...</td>\n      <td>...</td>\n      <td>...</td>\n      <td>...</td>\n      <td>...</td>\n      <td>...</td>\n      <td>...</td>\n      <td>...</td>\n      <td>...</td>\n      <td>...</td>\n    </tr>\n    <tr>\n      <th>(The Flying Dutchman: Act III Scene 8: Cavatina: Willst jenes Tags du nicht dich mehr entsinnen (Erik), 0w691bo9NbdhWcxoNy3MzI)</th>\n      <td>2</td>\n      <td>12</td>\n      <td>174373</td>\n      <td>2011</td>\n      <td>False</td>\n      <td>0.290</td>\n      <td>0.11600</td>\n      <td>5</td>\n      <td>-24.263</td>\n      <td>1</td>\n      <td>0.0418</td>\n      <td>0.965000</td>\n      <td>0.000036</td>\n      <td>0.3040</td>\n      <td>0.1660</td>\n      <td>78.498</td>\n    </tr>\n    <tr>\n      <th>(Athalia, HWV 52: Part 1, Scene 3: No. 16 Aria (Mathan), 4kdHNdXaKvSHyVIXhAnfMU)</th>\n      <td>1</td>\n      <td>17</td>\n      <td>210067</td>\n      <td>1998</td>\n      <td>False</td>\n      <td>0.211</td>\n      <td>0.00756</td>\n      <td>8</td>\n      <td>-30.398</td>\n      <td>1</td>\n      <td>0.0427</td>\n      <td>0.938000</td>\n      <td>0.001810</td>\n      <td>0.1370</td>\n      <td>0.1090</td>\n      <td>101.245</td>\n    </tr>\n    <tr>\n      <th>(Das jungste Gericht, BuxWV 3: Act III: O frohliche Zeit, wenn Kruge und Glaser zum Trinken uns winken (The Bad Soul, The Divine Voice), 0yzk5LbPEXgTmjqbNDmpZo)</th>\n      <td>1</td>\n      <td>11</td>\n      <td>321093</td>\n      <td>2007</td>\n      <td>False</td>\n      <td>0.244</td>\n      <td>0.10700</td>\n      <td>0</td>\n      <td>-20.351</td>\n      <td>1</td>\n      <td>0.0486</td>\n      <td>0.950000</td>\n      <td>0.000096</td>\n      <td>0.1020</td>\n      <td>0.1610</td>\n      <td>81.970</td>\n    </tr>\n    <tr>\n      <th>(Show You a Thing or Two, 0DqGQIceDHFZi5wZmeV6og)</th>\n      <td>1</td>\n      <td>9</td>\n      <td>323533</td>\n      <td>2001</td>\n      <td>False</td>\n      <td>0.648</td>\n      <td>0.46700</td>\n      <td>1</td>\n      <td>-6.026</td>\n      <td>1</td>\n      <td>0.1910</td>\n      <td>0.722000</td>\n      <td>0.000000</td>\n      <td>0.1300</td>\n      <td>0.6490</td>\n      <td>147.054</td>\n    </tr>\n    <tr>\n      <th>(Utrenja, Part II, \"The Resurrection of Christ\": III. Psalm with Troparion, 1x4oFZv3KK2afXGQBDndO4)</th>\n      <td>1</td>\n      <td>8</td>\n      <td>501733</td>\n      <td>2009</td>\n      <td>False</td>\n      <td>0.244</td>\n      <td>0.52300</td>\n      <td>9</td>\n      <td>-13.987</td>\n      <td>0</td>\n      <td>0.1870</td>\n      <td>0.951000</td>\n      <td>0.049900</td>\n      <td>0.1750</td>\n      <td>0.0336</td>\n      <td>126.702</td>\n    </tr>\n  </tbody>\n</table>\n<p>13280 rows × 16 columns</p>\n</div>"
     },
     "execution_count": 7,
     "metadata": {},
     "output_type": "execute_result"
    }
   ],
   "source": [
    "songs"
   ],
   "metadata": {
    "collapsed": false,
    "ExecuteTime": {
     "end_time": "2023-09-05T09:52:44.567352400Z",
     "start_time": "2023-09-05T09:52:44.492016300Z"
    }
   },
   "id": "914255c3db70d774"
  }
 ],
 "metadata": {
  "kernelspec": {
   "display_name": "Python 3",
   "language": "python",
   "name": "python3"
  },
  "language_info": {
   "codemirror_mode": {
    "name": "ipython",
    "version": 2
   },
   "file_extension": ".py",
   "mimetype": "text/x-python",
   "name": "python",
   "nbconvert_exporter": "python",
   "pygments_lexer": "ipython2",
   "version": "2.7.6"
  }
 },
 "nbformat": 4,
 "nbformat_minor": 5
}
